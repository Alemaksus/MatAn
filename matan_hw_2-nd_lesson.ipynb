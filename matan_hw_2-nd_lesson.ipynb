{
 "cells": [
  {
   "cell_type": "markdown",
   "metadata": {},
   "source": [
    "### Практическое задание к лекции No2"
   ]
  },
  {
   "cell_type": "markdown",
   "metadata": {},
   "source": [
    "### 1. Представьте в виде несократимой рациональной дроби:\n",
    "###    а) 0.(216):"
   ]
  },
  {
   "cell_type": "markdown",
   "metadata": {
    "scrolled": true
   },
   "source": [
    "$0.(216)$\n",
    "$1000a = 216.(216)$\n",
    "\n",
    "$1000a = 216 + 0.(216)$\n",
    "\n",
    "$1000a = 216 + a$\n",
    "\n",
    "$a = \\frac{216}{999} = \\frac{24}{111} = \\frac{8}{37}$"
   ]
  },
  {
   "cell_type": "markdown",
   "metadata": {},
   "source": [
    "### б) 1.0(01):"
   ]
  },
  {
   "cell_type": "markdown",
   "metadata": {},
   "source": [
    "$1.0(01)$\n",
    "$10a = 10,(01)$\n",
    "\n",
    "$10a = 10 + 0,(01)$\n",
    "\n",
    "$b = 0.(01)$\n",
    "\n",
    "$100b = 1,(01)$\n",
    "\n",
    "$100b = 1 + 0,(01)$\n",
    "\n",
    "$100b = 1 + b$\n",
    "\n",
    "$b = \\frac{1}{99}$\n",
    "\n",
    "$10a = 10 + \\frac{1}{99}$\n",
    "\n",
    "$a = \\frac{991}{990}$"
   ]
  },
  {
   "cell_type": "markdown",
   "metadata": {},
   "source": [
    "### 2. Проверьте любым способом, являются ли данные логические формулы\n",
    "### тавтологией:"
   ]
  },
  {
   "cell_type": "markdown",
   "metadata": {},
   "source": [
    "### а) (A ∨ B) → (B ∨ A̅)"
   ]
  },
  {
   "cell_type": "markdown",
   "metadata": {},
   "source": [
    "$(A \\vee B) \\to (B \\vee \\overline{A})$ $$ \\begin{array}{|c|c|} A & B & A \\vee B & \\overline{A} & B \\vee \\overline{A} & (A \\vee B) \\to (B \\vee \\overline{A})\\ \\hline True & True & True & False & True & True\\ True & False & True & False & False & False\\ False & True & True & True & True & True\\ False & False & False & True & True & True \\end{array} $$ Даная формула не является тавтологией."
   ]
  },
  {
   "cell_type": "markdown",
   "metadata": {},
   "source": [
    "б) $A \\to (A \\vee (\\overline{B} \\land A)$ $A \\to (A \\vee (\\overline{B} \\land A)) = A \\to A$ Даная формула является тавтологией."
   ]
  },
  {
   "cell_type": "markdown",
   "metadata": {},
   "source": [
    "### 3. Сформулируйте словесно высказывания:"
   ]
  },
  {
   "cell_type": "markdown",
   "metadata": {},
   "source": [
    "а) (AA̅ ∨ BB) → CC̅"
   ]
  },
  {
   "cell_type": "markdown",
   "metadata": {},
   "source": [
    "б) CC → (AA ∨ BB�)"
   ]
  },
  {
   "cell_type": "markdown",
   "metadata": {},
   "source": [
    "где А: сегодня светит солнце; В: сегодня сыро; С: я поеду на дачу."
   ]
  },
  {
   "cell_type": "markdown",
   "metadata": {},
   "source": [
    "a) $(\\overline{A} \\vee B) \\to \\overline{C}$ Если сегодня не будет светить солнце или сегодня будет сыро, я не поеду на дачу."
   ]
  },
  {
   "cell_type": "markdown",
   "metadata": {},
   "source": [
    "б) $C \\to (A \\vee \\overline{B})$ Если я поеду на дачу, сегодня будет светить солнце, и сегодня не будет сыро. "
   ]
  }
 ],
 "metadata": {
  "kernelspec": {
   "display_name": "Python 3",
   "language": "python",
   "name": "python3"
  },
  "language_info": {
   "codemirror_mode": {
    "name": "ipython",
    "version": 3
   },
   "file_extension": ".py",
   "mimetype": "text/x-python",
   "name": "python",
   "nbconvert_exporter": "python",
   "pygments_lexer": "ipython3",
   "version": "3.8.5"
  }
 },
 "nbformat": 4,
 "nbformat_minor": 4
}
